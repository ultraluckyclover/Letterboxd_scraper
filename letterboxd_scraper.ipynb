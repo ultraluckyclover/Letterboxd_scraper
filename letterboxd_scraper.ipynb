{
  "cells": [
    {
      "cell_type": "code",
      "execution_count": null,
      "metadata": {
        "colab": {
          "base_uri": "https://localhost:8080/"
        },
        "id": "j2X9beLaLWwX",
        "outputId": "a2ca092b-d5c9-4706-b213-35f4b958b681"
      },
      "outputs": [
        {
          "name": "stdout",
          "output_type": "stream",
          "text": [
            "Collecting google_colab_selenium\n",
            "  Downloading google_colab_selenium-1.0.13-py3-none-any.whl.metadata (2.7 kB)\n",
            "Collecting selenium (from google_colab_selenium)\n",
            "  Downloading selenium-4.23.1-py3-none-any.whl.metadata (7.1 kB)\n",
            "Requirement already satisfied: urllib3<3,>=1.26 in /usr/local/lib/python3.10/dist-packages (from urllib3[socks]<3,>=1.26->selenium->google_colab_selenium) (2.0.7)\n",
            "Collecting trio~=0.17 (from selenium->google_colab_selenium)\n",
            "  Downloading trio-0.26.0-py3-none-any.whl.metadata (8.8 kB)\n",
            "Collecting trio-websocket~=0.9 (from selenium->google_colab_selenium)\n",
            "  Downloading trio_websocket-0.11.1-py3-none-any.whl.metadata (4.7 kB)\n",
            "Requirement already satisfied: certifi>=2021.10.8 in /usr/local/lib/python3.10/dist-packages (from selenium->google_colab_selenium) (2024.7.4)\n",
            "Requirement already satisfied: typing_extensions~=4.9 in /usr/local/lib/python3.10/dist-packages (from selenium->google_colab_selenium) (4.12.2)\n",
            "Requirement already satisfied: websocket-client~=1.8 in /usr/local/lib/python3.10/dist-packages (from selenium->google_colab_selenium) (1.8.0)\n",
            "Requirement already satisfied: attrs>=23.2.0 in /usr/local/lib/python3.10/dist-packages (from trio~=0.17->selenium->google_colab_selenium) (23.2.0)\n",
            "Requirement already satisfied: sortedcontainers in /usr/local/lib/python3.10/dist-packages (from trio~=0.17->selenium->google_colab_selenium) (2.4.0)\n",
            "Requirement already satisfied: idna in /usr/local/lib/python3.10/dist-packages (from trio~=0.17->selenium->google_colab_selenium) (3.7)\n",
            "Collecting outcome (from trio~=0.17->selenium->google_colab_selenium)\n",
            "  Downloading outcome-1.3.0.post0-py2.py3-none-any.whl.metadata (2.6 kB)\n",
            "Requirement already satisfied: sniffio>=1.3.0 in /usr/local/lib/python3.10/dist-packages (from trio~=0.17->selenium->google_colab_selenium) (1.3.1)\n",
            "Requirement already satisfied: exceptiongroup in /usr/local/lib/python3.10/dist-packages (from trio~=0.17->selenium->google_colab_selenium) (1.2.2)\n",
            "Collecting wsproto>=0.14 (from trio-websocket~=0.9->selenium->google_colab_selenium)\n",
            "  Downloading wsproto-1.2.0-py3-none-any.whl.metadata (5.6 kB)\n",
            "Requirement already satisfied: pysocks!=1.5.7,<2.0,>=1.5.6 in /usr/local/lib/python3.10/dist-packages (from urllib3[socks]<3,>=1.26->selenium->google_colab_selenium) (1.7.1)\n",
            "Collecting h11<1,>=0.9.0 (from wsproto>=0.14->trio-websocket~=0.9->selenium->google_colab_selenium)\n",
            "  Downloading h11-0.14.0-py3-none-any.whl.metadata (8.2 kB)\n",
            "Downloading google_colab_selenium-1.0.13-py3-none-any.whl (8.1 kB)\n",
            "Downloading selenium-4.23.1-py3-none-any.whl (9.4 MB)\n",
            "\u001b[2K   \u001b[90m━━━━━━━━━━━━━━━━━━━━━━━━━━━━━━━━━━━━━━━━\u001b[0m \u001b[32m9.4/9.4 MB\u001b[0m \u001b[31m19.8 MB/s\u001b[0m eta \u001b[36m0:00:00\u001b[0m\n",
            "\u001b[?25hDownloading trio-0.26.0-py3-none-any.whl (475 kB)\n",
            "\u001b[2K   \u001b[90m━━━━━━━━━━━━━━━━━━━━━━━━━━━━━━━━━━━━━━━━\u001b[0m \u001b[32m475.7/475.7 kB\u001b[0m \u001b[31m16.7 MB/s\u001b[0m eta \u001b[36m0:00:00\u001b[0m\n",
            "\u001b[?25hDownloading trio_websocket-0.11.1-py3-none-any.whl (17 kB)\n",
            "Downloading wsproto-1.2.0-py3-none-any.whl (24 kB)\n",
            "Downloading outcome-1.3.0.post0-py2.py3-none-any.whl (10 kB)\n",
            "Downloading h11-0.14.0-py3-none-any.whl (58 kB)\n",
            "\u001b[2K   \u001b[90m━━━━━━━━━━━━━━━━━━━━━━━━━━━━━━━━━━━━━━━━\u001b[0m \u001b[32m58.3/58.3 kB\u001b[0m \u001b[31m3.3 MB/s\u001b[0m eta \u001b[36m0:00:00\u001b[0m\n",
            "\u001b[?25hInstalling collected packages: outcome, h11, wsproto, trio, trio-websocket, selenium, google_colab_selenium\n",
            "Successfully installed google_colab_selenium-1.0.13 h11-0.14.0 outcome-1.3.0.post0 selenium-4.23.1 trio-0.26.0 trio-websocket-0.11.1 wsproto-1.2.0\n"
          ]
        }
      ],
      "source": [
        "%pip install google_colab_selenium"
      ]
    },
    {
      "cell_type": "code",
      "execution_count": null,
      "metadata": {
        "id": "CbPCIynS7ATf"
      },
      "outputs": [],
      "source": [
        "import google_colab_selenium as gs\n",
        "from selenium.webdriver.common.by import By\n",
        "from selenium.webdriver.support.ui import WebDriverWait\n",
        "from selenium.webdriver.support import expected_conditions as EC\n",
        "from selenium.webdriver.chrome.options import Options\n",
        "import pandas as pd\n",
        "import time\n",
        "import random\n"
      ]
    },
    {
      "cell_type": "code",
      "execution_count": null,
      "metadata": {
        "colab": {
          "base_uri": "https://localhost:8080/",
          "height": 78
        },
        "id": "k_7wrfDg7e2u",
        "outputId": "446c7ff3-da05-493d-c7e7-bed140f749b8"
      },
      "outputs": [
        {
          "data": {
            "text/html": [
              "\n",
              "            <div class=\"spinner-container\">\n",
              "                <div class=\"spinner\" id=\"eeda1ae8-ba2c-43c0-9ff7-59875fa2e3f3-circle\"></div>\n",
              "                <div class=\"spinner-text\" id=\"eeda1ae8-ba2c-43c0-9ff7-59875fa2e3f3-text\">Updating and upgrading APT</div>\n",
              "            </div>\n",
              "            <style>\n",
              "                @keyframes spin {\n",
              "                    from { transform: rotate(0deg); }\n",
              "                    to { transform: rotate(360deg); }\n",
              "                }\n",
              "\n",
              "                .spinner-container {\n",
              "                    display: flex;\n",
              "                    align-items: center;\n",
              "                    margin-bottom: 3px;\n",
              "                }\n",
              "\n",
              "                .spinner {\n",
              "                    border: 3px solid rgba(0, 0, 0, 0.1);\n",
              "                    border-left-color: lightblue;\n",
              "                    border-radius: 50%;\n",
              "                    width: 12px;\n",
              "                    height: 12px;\n",
              "                    animation: spin 1s linear infinite;\n",
              "                }\n",
              "\n",
              "                .spinner-text {\n",
              "                    padding-left: 6px;\n",
              "                }\n",
              "            </style>\n",
              "        "
            ],
            "text/plain": [
              "<IPython.core.display.HTML object>"
            ]
          },
          "metadata": {},
          "output_type": "display_data"
        },
        {
          "data": {
            "application/javascript": "\n            const element = document.getElementById(\"eeda1ae8-ba2c-43c0-9ff7-59875fa2e3f3-circle\");\n            element.style.border = \"3px solid limegreen\";\n            element.style.animation = \"none\";\n\n            const text = document.getElementById(\"eeda1ae8-ba2c-43c0-9ff7-59875fa2e3f3-text\");\n            text.innerText = \"Updated and upgraded APT\";\n        ",
            "text/plain": [
              "<IPython.core.display.Javascript object>"
            ]
          },
          "metadata": {},
          "output_type": "display_data"
        },
        {
          "data": {
            "text/html": [
              "\n",
              "            <div class=\"spinner-container\">\n",
              "                <div class=\"spinner\" id=\"477e28c5-315a-4960-98aa-9aa315428833-circle\"></div>\n",
              "                <div class=\"spinner-text\" id=\"477e28c5-315a-4960-98aa-9aa315428833-text\">Downloading Google Chrome</div>\n",
              "            </div>\n",
              "            <style>\n",
              "                @keyframes spin {\n",
              "                    from { transform: rotate(0deg); }\n",
              "                    to { transform: rotate(360deg); }\n",
              "                }\n",
              "\n",
              "                .spinner-container {\n",
              "                    display: flex;\n",
              "                    align-items: center;\n",
              "                    margin-bottom: 3px;\n",
              "                }\n",
              "\n",
              "                .spinner {\n",
              "                    border: 3px solid rgba(0, 0, 0, 0.1);\n",
              "                    border-left-color: lightblue;\n",
              "                    border-radius: 50%;\n",
              "                    width: 12px;\n",
              "                    height: 12px;\n",
              "                    animation: spin 1s linear infinite;\n",
              "                }\n",
              "\n",
              "                .spinner-text {\n",
              "                    padding-left: 6px;\n",
              "                }\n",
              "            </style>\n",
              "        "
            ],
            "text/plain": [
              "<IPython.core.display.HTML object>"
            ]
          },
          "metadata": {},
          "output_type": "display_data"
        },
        {
          "data": {
            "application/javascript": "\n            const element = document.getElementById(\"477e28c5-315a-4960-98aa-9aa315428833-circle\");\n            element.style.border = \"3px solid limegreen\";\n            element.style.animation = \"none\";\n\n            const text = document.getElementById(\"477e28c5-315a-4960-98aa-9aa315428833-text\");\n            text.innerText = \"Downloaded Google Chrome\";\n        ",
            "text/plain": [
              "<IPython.core.display.Javascript object>"
            ]
          },
          "metadata": {},
          "output_type": "display_data"
        },
        {
          "data": {
            "text/html": [
              "\n",
              "            <div class=\"spinner-container\">\n",
              "                <div class=\"spinner\" id=\"54ebc441-a6d9-416e-b58f-fc13418a7ef8-circle\"></div>\n",
              "                <div class=\"spinner-text\" id=\"54ebc441-a6d9-416e-b58f-fc13418a7ef8-text\">Initializing Chromedriver</div>\n",
              "            </div>\n",
              "            <style>\n",
              "                @keyframes spin {\n",
              "                    from { transform: rotate(0deg); }\n",
              "                    to { transform: rotate(360deg); }\n",
              "                }\n",
              "\n",
              "                .spinner-container {\n",
              "                    display: flex;\n",
              "                    align-items: center;\n",
              "                    margin-bottom: 3px;\n",
              "                }\n",
              "\n",
              "                .spinner {\n",
              "                    border: 3px solid rgba(0, 0, 0, 0.1);\n",
              "                    border-left-color: lightblue;\n",
              "                    border-radius: 50%;\n",
              "                    width: 12px;\n",
              "                    height: 12px;\n",
              "                    animation: spin 1s linear infinite;\n",
              "                }\n",
              "\n",
              "                .spinner-text {\n",
              "                    padding-left: 6px;\n",
              "                }\n",
              "            </style>\n",
              "        "
            ],
            "text/plain": [
              "<IPython.core.display.HTML object>"
            ]
          },
          "metadata": {},
          "output_type": "display_data"
        },
        {
          "data": {
            "application/javascript": "\n            const element = document.getElementById(\"54ebc441-a6d9-416e-b58f-fc13418a7ef8-circle\");\n            element.style.border = \"3px solid limegreen\";\n            element.style.animation = \"none\";\n\n            const text = document.getElementById(\"54ebc441-a6d9-416e-b58f-fc13418a7ef8-text\");\n            text.innerText = \"Initialized Chromedriver\";\n        ",
            "text/plain": [
              "<IPython.core.display.Javascript object>"
            ]
          },
          "metadata": {},
          "output_type": "display_data"
        }
      ],
      "source": [
        "options = Options()\n",
        "options.headless = False\n",
        "options.add_argument('window_size=1920x1080')\n",
        "\n",
        "driver = gs.Chrome(options=options)"
      ]
    },
    {
      "cell_type": "code",
      "execution_count": null,
      "metadata": {
        "id": "ij_WXI_gXRxN"
      },
      "outputs": [],
      "source": [
        "username = input(\"Enter your Letterboxd username: \")\n",
        "# username = 'drewiepiebear'\n",
        "website = f'https://letterboxd.com/{username}/watchlist/'\n",
        "\n",
        "### Uncomment if you want to filter for genre\n",
        "\n",
        "#genre = input(\"Enter the genre you want to watch: \")\n",
        "# if genre == \"all\":\n",
        "#   website = f'https://letterboxd.com/{username}/watchlist/'\n",
        "# else:\n",
        "#   website = f'https://letterboxd.com/{username}/watchlist/genre/{genre}/'\n",
        "\n",
        "\n",
        "driver.get(website)"
      ]
    },
    {
      "cell_type": "code",
      "execution_count": null,
      "metadata": {
        "collapsed": true,
        "id": "8BWHKkdJ8sK0"
      },
      "outputs": [],
      "source": [
        "#checks if there is any pagination\n",
        "def check_next_page_exists(xpath):\n",
        "  try:\n",
        "    driver.find_element(By.XPATH, xpath)\n",
        "  except:\n",
        "    return False\n",
        "  return True\n",
        "\n",
        "xpath = '//div[@class=\"pagination\"]'\n",
        "if check_next_page_exists(xpath):\n",
        "  #setting up variables for pagination\n",
        "  pagination = driver.find_element(By.XPATH, '//div[@class=\"pagination\"]')\n",
        "  pages = pagination.find_elements(By.XPATH, './/li')\n",
        "  next_page = pagination.find_element(By.XPATH, './/a[@class=\"next\"]')\n",
        "  last_page = int(pages[-1].text)\n",
        "else:\n",
        "  next_page = 1 #goes into while loop once just for the one page\n",
        "\n",
        "movie_title = []\n",
        "movie_release = []\n",
        "current_page = 1\n",
        "\n",
        "\n",
        "while next_page:\n",
        "  #print(\"current page is \" + str(current_page))\n",
        "\n",
        "  # program was not going past the second page of pagination unless I repeated this in the while loop\n",
        "  if check_next_page_exists(xpath):\n",
        "    pagination = driver.find_element(By.XPATH, '//div[@class=\"pagination\"]')\n",
        "\n",
        "  container = driver.find_element(By.XPATH, '//ul[contains(@class , \"poster-list\")]')\n",
        "\n",
        "\n",
        "  # dummy = pagination.get_attribute(\"innerHTML\")\n",
        "  # print(dummy)\n",
        "  #container = WebDriverWait(driver, 5).until(EC.presence_of_element_located((By.XPATH, '//ul[contains(@class , \"poster-list\")]')))\n",
        "  #movies = container.find_elements(By.XPATH, './li')\n",
        "  movies = WebDriverWait(container,5).until(EC.presence_of_all_elements_located((By.XPATH, './li')))\n",
        "\n",
        "\n",
        "  for movie in movies:\n",
        "    #movie_title.append(movie.find_element(By.XPATH, './/div[@data-film-name]').get_attribute('data-film-name'))\n",
        "    title_element = WebDriverWait(movie,5).until(EC.presence_of_element_located((By.XPATH, './/div[@data-film-name]'))).get_attribute('data-film-name')\n",
        "    movie_title.append(title_element)\n",
        "    #movie_release.append(movie.find_element(By.XPATH, './/div[@data-film-release-year]').get_attribute('data-film-release-year'))\n",
        "    year_element = WebDriverWait(movie,5).until(EC.presence_of_element_located((By.XPATH, './/div[@data-film-release-year]'))).get_attribute('data-film-release-year')\n",
        "    movie_release.append(year_element)\n",
        "\n",
        "  try:\n",
        "    #print(\"trying....\")\n",
        "    next_page = WebDriverWait(pagination, 10).until(EC.element_to_be_clickable((By.XPATH, './/a[@class=\"next\"]')))\n",
        "\n",
        "    #next_page = pagination.find_element(By.XPATH, './/a[@class=\"next\"]')\n",
        "    next_page.click()\n",
        "    current_page += 1\n",
        "\n",
        "  except:\n",
        "    #print(\"failed...\")\n",
        "    next_page = None\n",
        "\n",
        "driver.quit()"
      ]
    },
    {
      "cell_type": "code",
      "execution_count": null,
      "metadata": {
        "id": "bhOkNUpIOlEK"
      },
      "outputs": [],
      "source": [
        "df_movies = pd.DataFrame({'title': movie_title, 'year': movie_release})\n",
        "df_movies.to_csv('movies.csv', index=False)"
      ]
    },
    {
      "cell_type": "code",
      "execution_count": null,
      "metadata": {
        "colab": {
          "base_uri": "https://localhost:8080/"
        },
        "id": "WGnvfsDKZ8Sd",
        "outputId": "2cf1718a-7544-4f57-aee0-822ed611496d"
      },
      "outputs": [
        {
          "name": "stdout",
          "output_type": "stream",
          "text": [
            "('Bottle Rocket', '1994')\n"
          ]
        }
      ],
      "source": [
        "def pick_movie():\n",
        "  def rng():\n",
        "    return (random.randint(1,len(movie_title)) - 1)\n",
        "\n",
        "  index = rng()\n",
        "  title = movie_title[index]\n",
        "  year = movie_release[index]\n",
        "  return title, year\n",
        "\n",
        "print(pick_movie())"
      ]
    },
    {
      "cell_type": "code",
      "execution_count": null,
      "metadata": {
        "id": "sQP-RImsBMlB"
      },
      "outputs": [],
      "source": []
    }
  ],
  "metadata": {
    "colab": {
      "provenance": []
    },
    "kernelspec": {
      "display_name": "Python 3",
      "name": "python3"
    },
    "language_info": {
      "name": "python"
    }
  },
  "nbformat": 4,
  "nbformat_minor": 0
}
